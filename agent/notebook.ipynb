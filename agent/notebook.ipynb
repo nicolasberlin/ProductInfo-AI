{
 "cells": [
  {
   "cell_type": "code",
   "execution_count": 87,
   "id": "7a7a724a-24f9-47ea-ab96-6ce7dd761756",
   "metadata": {},
   "outputs": [
    {
     "data": {
      "text/html": [
       "<div>\n",
       "<style scoped>\n",
       "    .dataframe tbody tr th:only-of-type {\n",
       "        vertical-align: middle;\n",
       "    }\n",
       "\n",
       "    .dataframe tbody tr th {\n",
       "        vertical-align: top;\n",
       "    }\n",
       "\n",
       "    .dataframe thead th {\n",
       "        text-align: right;\n",
       "    }\n",
       "</style>\n",
       "<table border=\"1\" class=\"dataframe\">\n",
       "  <thead>\n",
       "    <tr style=\"text-align: right;\">\n",
       "      <th></th>\n",
       "      <th>URL</th>\n",
       "      <th>Nom</th>\n",
       "      <th>Brevets</th>\n",
       "    </tr>\n",
       "  </thead>\n",
       "  <tbody>\n",
       "    <tr>\n",
       "      <th>0</th>\n",
       "      <td>https://www.terumobct.com/content/dam/terumo-b...</td>\n",
       "      <td>Atreus™ Whole Blood Processing System</td>\n",
       "      <td>CN2006800307704, CN2007800209602, CN2011101215...</td>\n",
       "    </tr>\n",
       "    <tr>\n",
       "      <th>1</th>\n",
       "      <td>https://www.terumobct.com/content/dam/terumo-b...</td>\n",
       "      <td>Spectra Optia™ Apheresis System</td>\n",
       "      <td>CN2008800207885, CN200880111396, CN20108005628...</td>\n",
       "    </tr>\n",
       "    <tr>\n",
       "      <th>2</th>\n",
       "      <td>https://www.terumobct.com/content/dam/terumo-b...</td>\n",
       "      <td>Trima™ and Trima Accel™ Automated Blood Collec...</td>\n",
       "      <td>CA2957407, CH2013800369698, CH2015800437105, C...</td>\n",
       "    </tr>\n",
       "    <tr>\n",
       "      <th>3</th>\n",
       "      <td>https://www.terumobct.com/content/dam/terumo-b...</td>\n",
       "      <td>Rika™ Source Plasma System</td>\n",
       "      <td>2018254601, CN2023300225838, CN110709118, 4071...</td>\n",
       "    </tr>\n",
       "    <tr>\n",
       "      <th>4</th>\n",
       "      <td>https://www.terumobct.com/content/dam/terumo-b...</td>\n",
       "      <td>Mirasol™ Pathogen Reduction Technology System</td>\n",
       "      <td>AU2007210149, BE1725270, CA2558260, CA2614329,...</td>\n",
       "    </tr>\n",
       "  </tbody>\n",
       "</table>\n",
       "</div>"
      ],
      "text/plain": [
       "                                                 URL  \\\n",
       "0  https://www.terumobct.com/content/dam/terumo-b...   \n",
       "1  https://www.terumobct.com/content/dam/terumo-b...   \n",
       "2  https://www.terumobct.com/content/dam/terumo-b...   \n",
       "3  https://www.terumobct.com/content/dam/terumo-b...   \n",
       "4  https://www.terumobct.com/content/dam/terumo-b...   \n",
       "\n",
       "                                                 Nom  \\\n",
       "0              Atreus™ Whole Blood Processing System   \n",
       "1                    Spectra Optia™ Apheresis System   \n",
       "2  Trima™ and Trima Accel™ Automated Blood Collec...   \n",
       "3                         Rika™ Source Plasma System   \n",
       "4      Mirasol™ Pathogen Reduction Technology System   \n",
       "\n",
       "                                             Brevets  \n",
       "0  CN2006800307704, CN2007800209602, CN2011101215...  \n",
       "1  CN2008800207885, CN200880111396, CN20108005628...  \n",
       "2  CA2957407, CH2013800369698, CH2015800437105, C...  \n",
       "3  2018254601, CN2023300225838, CN110709118, 4071...  \n",
       "4  AU2007210149, BE1725270, CA2558260, CA2614329,...  "
      ]
     },
     "execution_count": 87,
     "metadata": {},
     "output_type": "execute_result"
    }
   ],
   "source": [
    "path = \"/Users/nicolasandreasberlin/ProductInfo-AI/agent/data/Labels_URLs_normalized_revised.xlsx\"\n",
    "\n",
    "import numpy as np\n",
    "\n",
    "sheets = pd.read_excel(path,sheet_name=None,  dtype=str)\n",
    "df = pd.concat(sheets.values(), ignore_index=True).fillna(\"\")\n",
    "\n",
    "df.head(5)"
   ]
  },
  {
   "cell_type": "code",
   "execution_count": 86,
   "id": "16c166e0-e833-41ac-9946-9792446fe74a",
   "metadata": {},
   "outputs": [
    {
     "name": "stdout",
     "output_type": "stream",
     "text": [
      "Colonnes: ['messages']\n",
      "Nb d'exemples: 158\n",
      "[{'role': 'user', 'content': 'Extract product names and patent numbers. Return JSON only with key \"items\" which is a list of objects: each object has \"product\" (string) and \"patents\" (list of strings).\\n\\nTEXT:\\n'}, {'role': 'assistant', 'content': '{\"items\": []}'}]\n"
     ]
    }
   ],
   "source": [
    "import json\n",
    "from datasets import load_dataset\n",
    "\n",
    "path = \"./data/train.jsonl\"\n",
    "\n",
    "ds = load_dataset(\"json\", data_files=path, split=\"train\")\n",
    "ds\n",
    "import json\n",
    "\n",
    "# affiche la structure de la première ligne\n",
    "print(\"Colonnes:\", ds.column_names)\n",
    "print(\"Nb d'exemples:\", len(ds))\n",
    "\n",
    "# affiche ds[0] en JSON prettifié (lisible)\n",
    "print(ds[0][\"messages\"])"
   ]
  },
  {
   "cell_type": "code",
   "execution_count": null,
   "id": "2f0a687b-f56a-4aad-9849-b624a2901349",
   "metadata": {},
   "outputs": [],
   "source": []
  },
  {
   "cell_type": "code",
   "execution_count": 80,
   "id": "12f6cc97-a8b0-469f-b347-50ab197c9720",
   "metadata": {},
   "outputs": [
    {
     "name": "stdout",
     "output_type": "stream",
     "text": [
      "Firefly Medical, Inc. Virtual Patent Marking:\n",
      "The following Firefly Medical Inc. products are protected by patents in the U.S. and other countries. This\n",
      "website is provided to satisfy the virtual patent marking provisions of various jurisdictions including the\n",
      "virtual patent marking provisions of the America Invents Act (35 U.S.C. § 287(a)). The following list of\n",
      "Firefly Medical, Inc. products may not be all inclusive, and other Firefly Medical Inc. products not listed\n",
      "here may be protected by one or more patents.\n",
      "The product, IVEA® Mobility and Infusion Support: Protected by one or more of U.S. Patents 8,136,773,\n",
      "8,534,616, 8,662,458, 9,173,803, 10,299,875, 10,758,161, D630,731, and D791,937. Patents outside the\n",
      "United States include: 2007342126 (Australia), 2014290406 (Australia), 2,672,231 (Canada), 2,916,684\n",
      "(Canada), 2014800519191 (China), 2109733 (Netherlands, Luxembourg, Italy, France, Belgium,\n",
      "Germany, Great Britain, and Spain), 3022088 (France, Germany, and Great Britain), 3498534 (France,\n",
      "Germany, and Great Britain), 1134946 (Hong Kong), 1221694 (Hong Kong), 5796875 (Japan), 6648890\n",
      "(Japan), and 30-0849279 (Korea).\n",
      "Additional patents may be pending in the U.S. and elsewhere. FIREFLY MEDICAL, the Firefly Design, and\n",
      "IVEA are all registered trademarks of Firefly Medical Inc.\n"
     ]
    }
   ],
   "source": [
    "from preprocess.extractor import fetch_text\n",
    "\n",
    "print(fetch_text(\"https://www.iveamobility.com/wp-content/uploads/2020/10/Firefly-IP-Virtual-Marking-List-Oct-2020.pdf\"))"
   ]
  },
  {
   "cell_type": "code",
   "execution_count": 54,
   "id": "18fb0a2c-1396-4f1e-8258-48d989717814",
   "metadata": {},
   "outputs": [
    {
     "name": "stdout",
     "output_type": "stream",
     "text": [
      "__init__.py               infer_lora.py             notebook.ipynb\n",
      "\u001b[34m__pycache__\u001b[m\u001b[m               inferv1.py                \u001b[34mpreprocess\u001b[m\u001b[m\n",
      "\u001b[34mdata\u001b[m\u001b[m                      notebook-checkpoint.ipynb train_lora_sft.py\n"
     ]
    }
   ],
   "source": []
  },
  {
   "cell_type": "code",
   "execution_count": null,
   "id": "545f1294-e2e1-4f75-a9a2-570a4eb6152b",
   "metadata": {},
   "outputs": [],
   "source": []
  }
 ],
 "metadata": {
  "kernelspec": {
   "display_name": "Python 3 (ipykernel)",
   "language": "python",
   "name": "python3"
  },
  "language_info": {
   "codemirror_mode": {
    "name": "ipython",
    "version": 3
   },
   "file_extension": ".py",
   "mimetype": "text/x-python",
   "name": "python",
   "nbconvert_exporter": "python",
   "pygments_lexer": "ipython3",
   "version": "3.12.11"
  }
 },
 "nbformat": 4,
 "nbformat_minor": 5
}
